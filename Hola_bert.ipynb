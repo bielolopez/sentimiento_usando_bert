{
 "cells": [
  {
   "cell_type": "code",
   "execution_count": 1,
   "metadata": {
    "colab": {
     "base_uri": "https://localhost:8080/",
     "height": 1000
    },
    "colab_type": "code",
    "id": "gUwXToPQ4bHS",
    "outputId": "832c46b6-147c-4b45-a47f-c20f1dd7089f"
   },
   "outputs": [
    {
     "name": "stdout",
     "output_type": "stream",
     "text": [
      "Collecting ktrain\n",
      "  Downloading ktrain-0.26.2.tar.gz (25.3 MB)\n",
      "Collecting scikit-learn==0.23.2\n",
      "  Downloading scikit_learn-0.23.2-cp38-cp38-win_amd64.whl (6.8 MB)\n",
      "Requirement already satisfied: matplotlib>=3.0.0 in c:\\users\\bielo\\anaconda3\\lib\\site-packages (from ktrain) (3.3.4)\n",
      "Requirement already satisfied: pandas>=1.0.1 in c:\\users\\bielo\\anaconda3\\lib\\site-packages (from ktrain) (1.2.4)\n",
      "Collecting fastprogress>=0.1.21\n",
      "  Downloading fastprogress-1.0.0-py3-none-any.whl (12 kB)\n",
      "Requirement already satisfied: requests in c:\\users\\bielo\\anaconda3\\lib\\site-packages (from ktrain) (2.25.1)\n",
      "Requirement already satisfied: joblib in c:\\users\\bielo\\anaconda3\\lib\\site-packages (from ktrain) (1.0.1)\n",
      "Requirement already satisfied: packaging in c:\\users\\bielo\\anaconda3\\lib\\site-packages (from ktrain) (20.9)\n",
      "Requirement already satisfied: ipython in c:\\users\\bielo\\anaconda3\\lib\\site-packages (from ktrain) (7.22.0)\n",
      "Collecting langdetect\n",
      "  Downloading langdetect-1.0.9.tar.gz (981 kB)\n",
      "Collecting jieba\n",
      "  Downloading jieba-0.42.1.tar.gz (19.2 MB)\n",
      "Collecting cchardet\n",
      "  Downloading cchardet-2.1.7-cp38-cp38-win_amd64.whl (115 kB)\n",
      "Collecting syntok\n",
      "  Downloading syntok-1.3.1.tar.gz (23 kB)\n",
      "Collecting seqeval==0.0.19\n",
      "  Downloading seqeval-0.0.19.tar.gz (30 kB)\n",
      "Collecting transformers<=4.3.3,>=4.0.0\n",
      "  Downloading transformers-4.3.3-py3-none-any.whl (1.9 MB)\n",
      "Collecting sentencepiece\n",
      "  Downloading sentencepiece-0.1.95-cp38-cp38-win_amd64.whl (1.2 MB)\n",
      "Collecting keras_bert>=0.86.0\n",
      "  Downloading keras-bert-0.86.0.tar.gz (26 kB)\n",
      "Requirement already satisfied: networkx>=2.3 in c:\\users\\bielo\\anaconda3\\lib\\site-packages (from ktrain) (2.5.1)\n",
      "Collecting whoosh\n",
      "  Downloading Whoosh-2.7.4-py2.py3-none-any.whl (468 kB)\n",
      "Requirement already satisfied: threadpoolctl>=2.0.0 in c:\\users\\bielo\\anaconda3\\lib\\site-packages (from scikit-learn==0.23.2->ktrain) (2.1.0)\n",
      "Requirement already satisfied: numpy>=1.13.3 in c:\\users\\bielo\\anaconda3\\lib\\site-packages (from scikit-learn==0.23.2->ktrain) (1.20.1)\n",
      "Requirement already satisfied: scipy>=0.19.1 in c:\\users\\bielo\\anaconda3\\lib\\site-packages (from scikit-learn==0.23.2->ktrain) (1.6.2)\n",
      "Requirement already satisfied: Keras>=2.2.4 in c:\\users\\bielo\\anaconda3\\lib\\site-packages (from seqeval==0.0.19->ktrain) (2.4.3)\n",
      "Requirement already satisfied: pyyaml in c:\\users\\bielo\\anaconda3\\lib\\site-packages (from Keras>=2.2.4->seqeval==0.0.19->ktrain) (5.4.1)\n",
      "Requirement already satisfied: h5py in c:\\users\\bielo\\appdata\\roaming\\python\\python38\\site-packages (from Keras>=2.2.4->seqeval==0.0.19->ktrain) (2.10.0)\n",
      "Collecting keras-transformer>=0.38.0\n",
      "  Downloading keras-transformer-0.38.0.tar.gz (11 kB)\n",
      "Collecting keras-pos-embd>=0.11.0\n",
      "  Downloading keras-pos-embd-0.11.0.tar.gz (5.9 kB)\n",
      "Collecting keras-multi-head>=0.27.0\n",
      "  Downloading keras-multi-head-0.27.0.tar.gz (14 kB)\n",
      "Collecting keras-layer-normalization>=0.14.0\n",
      "  Downloading keras-layer-normalization-0.14.0.tar.gz (4.3 kB)\n",
      "Collecting keras-position-wise-feed-forward>=0.6.0\n",
      "  Downloading keras-position-wise-feed-forward-0.6.0.tar.gz (4.4 kB)\n",
      "Collecting keras-embed-sim>=0.8.0\n",
      "  Downloading keras-embed-sim-0.8.0.tar.gz (4.1 kB)\n",
      "Collecting keras-self-attention==0.46.0\n",
      "  Downloading keras-self-attention-0.46.0.tar.gz (10 kB)\n",
      "Requirement already satisfied: python-dateutil>=2.1 in c:\\users\\bielo\\anaconda3\\lib\\site-packages (from matplotlib>=3.0.0->ktrain) (2.8.1)\n",
      "Requirement already satisfied: pillow>=6.2.0 in c:\\users\\bielo\\anaconda3\\lib\\site-packages (from matplotlib>=3.0.0->ktrain) (8.2.0)\n",
      "Requirement already satisfied: cycler>=0.10 in c:\\users\\bielo\\anaconda3\\lib\\site-packages (from matplotlib>=3.0.0->ktrain) (0.10.0)\n",
      "Requirement already satisfied: kiwisolver>=1.0.1 in c:\\users\\bielo\\anaconda3\\lib\\site-packages (from matplotlib>=3.0.0->ktrain) (1.3.1)\n",
      "Requirement already satisfied: pyparsing!=2.0.4,!=2.1.2,!=2.1.6,>=2.0.3 in c:\\users\\bielo\\anaconda3\\lib\\site-packages (from matplotlib>=3.0.0->ktrain) (2.4.7)\n",
      "Requirement already satisfied: six in c:\\users\\bielo\\anaconda3\\lib\\site-packages (from cycler>=0.10->matplotlib>=3.0.0->ktrain) (1.15.0)\n",
      "Requirement already satisfied: decorator<5,>=4.3 in c:\\users\\bielo\\anaconda3\\lib\\site-packages (from networkx>=2.3->ktrain) (4.4.2)\n",
      "Requirement already satisfied: pytz>=2017.3 in c:\\users\\bielo\\anaconda3\\lib\\site-packages (from pandas>=1.0.1->ktrain) (2021.1)\n",
      "Collecting sacremoses\n",
      "  Downloading sacremoses-0.0.45-py3-none-any.whl (895 kB)\n",
      "Requirement already satisfied: tqdm>=4.27 in c:\\users\\bielo\\anaconda3\\lib\\site-packages (from transformers<=4.3.3,>=4.0.0->ktrain) (4.59.0)\n",
      "Requirement already satisfied: regex!=2019.12.17 in c:\\users\\bielo\\anaconda3\\lib\\site-packages (from transformers<=4.3.3,>=4.0.0->ktrain) (2021.4.4)\n",
      "Requirement already satisfied: filelock in c:\\users\\bielo\\anaconda3\\lib\\site-packages (from transformers<=4.3.3,>=4.0.0->ktrain) (3.0.12)\n",
      "Collecting tokenizers<0.11,>=0.10.1\n",
      "  Downloading tokenizers-0.10.2-cp38-cp38-win_amd64.whl (2.0 MB)\n",
      "Requirement already satisfied: prompt-toolkit!=3.0.0,!=3.0.1,<3.1.0,>=2.0.0 in c:\\users\\bielo\\anaconda3\\lib\\site-packages (from ipython->ktrain) (3.0.17)\n",
      "Requirement already satisfied: pygments in c:\\users\\bielo\\anaconda3\\lib\\site-packages (from ipython->ktrain) (2.8.1)\n",
      "Requirement already satisfied: colorama in c:\\users\\bielo\\anaconda3\\lib\\site-packages (from ipython->ktrain) (0.4.4)\n",
      "Requirement already satisfied: jedi>=0.16 in c:\\users\\bielo\\anaconda3\\lib\\site-packages (from ipython->ktrain) (0.17.2)\n",
      "Requirement already satisfied: traitlets>=4.2 in c:\\users\\bielo\\anaconda3\\lib\\site-packages (from ipython->ktrain) (5.0.5)\n",
      "Requirement already satisfied: pickleshare in c:\\users\\bielo\\anaconda3\\lib\\site-packages (from ipython->ktrain) (0.7.5)\n",
      "Requirement already satisfied: setuptools>=18.5 in c:\\users\\bielo\\anaconda3\\lib\\site-packages (from ipython->ktrain) (52.0.0.post20210125)\n",
      "Requirement already satisfied: backcall in c:\\users\\bielo\\anaconda3\\lib\\site-packages (from ipython->ktrain) (0.2.0)\n",
      "Requirement already satisfied: parso<0.8.0,>=0.7.0 in c:\\users\\bielo\\anaconda3\\lib\\site-packages (from jedi>=0.16->ipython->ktrain) (0.7.0)\n",
      "Requirement already satisfied: wcwidth in c:\\users\\bielo\\anaconda3\\lib\\site-packages (from prompt-toolkit!=3.0.0,!=3.0.1,<3.1.0,>=2.0.0->ipython->ktrain) (0.2.5)\n",
      "Requirement already satisfied: ipython-genutils in c:\\users\\bielo\\anaconda3\\lib\\site-packages (from traitlets>=4.2->ipython->ktrain) (0.2.0)\n",
      "Requirement already satisfied: urllib3<1.27,>=1.21.1 in c:\\users\\bielo\\anaconda3\\lib\\site-packages (from requests->ktrain) (1.26.4)\n",
      "Requirement already satisfied: idna<3,>=2.5 in c:\\users\\bielo\\anaconda3\\lib\\site-packages (from requests->ktrain) (2.10)\n",
      "Requirement already satisfied: chardet<5,>=3.0.2 in c:\\users\\bielo\\anaconda3\\lib\\site-packages (from requests->ktrain) (4.0.0)\n",
      "Requirement already satisfied: certifi>=2017.4.17 in c:\\users\\bielo\\anaconda3\\lib\\site-packages (from requests->ktrain) (2020.12.5)\n",
      "Requirement already satisfied: click in c:\\users\\bielo\\anaconda3\\lib\\site-packages (from sacremoses->transformers<=4.3.3,>=4.0.0->ktrain) (8.0.0)\n",
      "Building wheels for collected packages: ktrain, seqeval, keras-bert, keras-transformer, keras-embed-sim, keras-layer-normalization, keras-multi-head, keras-self-attention, keras-pos-embd, keras-position-wise-feed-forward, jieba, langdetect, syntok\n",
      "  Building wheel for ktrain (setup.py): started\n",
      "  Building wheel for ktrain (setup.py): finished with status 'done'\n",
      "  Created wheel for ktrain: filename=ktrain-0.26.2-py3-none-any.whl size=25277794 sha256=8d1dca90601a99c21a31948770b4e2738c669b8f001aaaba79876132735f09a1\n",
      "  Stored in directory: c:\\users\\bielo\\appdata\\local\\pip\\cache\\wheels\\4c\\f7\\35\\131e358c44b65fe37ad182ee43b326988339603c7f7b0ebabe\n",
      "  Building wheel for seqeval (setup.py): started\n",
      "  Building wheel for seqeval (setup.py): finished with status 'done'\n",
      "  Created wheel for seqeval: filename=seqeval-0.0.19-py3-none-any.whl size=9918 sha256=e0266f39d21aa2b93bf54bcf6212448ab6061c0ea2c3508c7a620dbad5f3814f\n",
      "  Stored in directory: c:\\users\\bielo\\appdata\\local\\pip\\cache\\wheels\\58\\e5\\9e\\2f94312239a6753267da6ceafe12d614603b78d308676df5e2\n",
      "  Building wheel for keras-bert (setup.py): started\n",
      "  Building wheel for keras-bert (setup.py): finished with status 'done'\n",
      "  Created wheel for keras-bert: filename=keras_bert-0.86.0-py3-none-any.whl size=34143 sha256=1f07d5111097f19ec040dd7cd6a582caf665b4e756bcf973368c04e4b4243ccd\n",
      "  Stored in directory: c:\\users\\bielo\\appdata\\local\\pip\\cache\\wheels\\d8\\69\\eb\\f4e8fda390b2599cde780fce1361c142367c00a8b98c82095e\n",
      "  Building wheel for keras-transformer (setup.py): started\n",
      "  Building wheel for keras-transformer (setup.py): finished with status 'done'\n",
      "  Created wheel for keras-transformer: filename=keras_transformer-0.38.0-py3-none-any.whl size=12941 sha256=c977c7dec0f6b12c307af85cce0aa59fcfae3295e8e9144ca28e1ea6d8458e9b\n",
      "  Stored in directory: c:\\users\\bielo\\appdata\\local\\pip\\cache\\wheels\\a9\\fb\\18\\ed70d4af00ce43f0ea7fbade107fe2f6e26bf27f24e08bfa7d\n",
      "  Building wheel for keras-embed-sim (setup.py): started\n",
      "  Building wheel for keras-embed-sim (setup.py): finished with status 'done'\n",
      "  Created wheel for keras-embed-sim: filename=keras_embed_sim-0.8.0-py3-none-any.whl size=4557 sha256=ab50a05cb6b5b5e9e009dba1c8cd742c6de30c0865567652ec2cd2f05f7397fb\n",
      "  Stored in directory: c:\\users\\bielo\\appdata\\local\\pip\\cache\\wheels\\02\\f9\\ff\\71b8118e82790efd55bb33cbe2d21abeec3965cf8f36f5f84c\n",
      "  Building wheel for keras-layer-normalization (setup.py): started\n",
      "  Building wheel for keras-layer-normalization (setup.py): finished with status 'done'\n",
      "  Created wheel for keras-layer-normalization: filename=keras_layer_normalization-0.14.0-py3-none-any.whl size=5267 sha256=a0a269ff3debe60f611b4fa1f4b40a21069b1db76d38f7d8ce003baee1ac336d\n",
      "  Stored in directory: c:\\users\\bielo\\appdata\\local\\pip\\cache\\wheels\\02\\6a\\69\\04961d77d187981dec03832babe68ac9c9f559950bb8f62907\n",
      "  Building wheel for keras-multi-head (setup.py): started\n",
      "  Building wheel for keras-multi-head (setup.py): finished with status 'done'\n",
      "  Created wheel for keras-multi-head: filename=keras_multi_head-0.27.0-py3-none-any.whl size=15615 sha256=b143f603a878791b234e88a7b7b5d84a396e7f48ad07dc76a7fa4c711f1ae938\n",
      "  Stored in directory: c:\\users\\bielo\\appdata\\local\\pip\\cache\\wheels\\89\\78\\6d\\6eb993e6ee85006e88e7d2bf954d4ad4893a573e0dc664eaf2\n",
      "  Building wheel for keras-self-attention (setup.py): started\n",
      "  Building wheel for keras-self-attention (setup.py): finished with status 'done'\n",
      "  Created wheel for keras-self-attention: filename=keras_self_attention-0.46.0-py3-none-any.whl size=17277 sha256=317a87ca3896c2b87c51f44d35bd90f81a6d7590ed9fecd0f059fd7b73ef96bf\n",
      "  Stored in directory: c:\\users\\bielo\\appdata\\local\\pip\\cache\\wheels\\0c\\62\\49\\4acbecf2af103fee5213fd22671d73614cd273a7baf4bd601c\n",
      "  Building wheel for keras-pos-embd (setup.py): started\n",
      "  Building wheel for keras-pos-embd (setup.py): finished with status 'done'\n",
      "  Created wheel for keras-pos-embd: filename=keras_pos_embd-0.11.0-py3-none-any.whl size=7552 sha256=6a601f53959c48c1a0ccf2b45ec9e003e44e8b4af0370bd6ce658c649f65ecb2\n",
      "  Stored in directory: c:\\users\\bielo\\appdata\\local\\pip\\cache\\wheels\\ad\\04\\9a\\b68e9d44d531ae48796ee329b1b93b7cb511162c71f2f6df03\n",
      "  Building wheel for keras-position-wise-feed-forward (setup.py): started\n",
      "  Building wheel for keras-position-wise-feed-forward (setup.py): finished with status 'done'\n",
      "  Created wheel for keras-position-wise-feed-forward: filename=keras_position_wise_feed_forward-0.6.0-py3-none-any.whl size=5623 sha256=d0422c078fccde1e0b6838e2f15bbb09949502c0282abbeea956a328c6ed0383\n",
      "  Stored in directory: c:\\users\\bielo\\appdata\\local\\pip\\cache\\wheels\\18\\f0\\90\\017a1e331356edfb4c81f0d34cb241d67ab590c9fdb685ada0\n",
      "  Building wheel for jieba (setup.py): started\n",
      "  Building wheel for jieba (setup.py): finished with status 'done'\n",
      "  Created wheel for jieba: filename=jieba-0.42.1-py3-none-any.whl size=19314477 sha256=55bd5dec6bdc15c87d1a783d9866c9f15ca154eaac21a5b94a7d948b6b65e757\n",
      "  Stored in directory: c:\\users\\bielo\\appdata\\local\\pip\\cache\\wheels\\ca\\38\\d8\\dfdfe73bec1d12026b30cb7ce8da650f3f0ea2cf155ea018ae\n",
      "  Building wheel for langdetect (setup.py): started\n",
      "  Building wheel for langdetect (setup.py): finished with status 'done'\n",
      "  Created wheel for langdetect: filename=langdetect-1.0.9-py3-none-any.whl size=993221 sha256=d78d630f71abce33752172430d5fb3f25c81cdf34f9d9b2ed2911625245aa1c4\n",
      "  Stored in directory: c:\\users\\bielo\\appdata\\local\\pip\\cache\\wheels\\13\\c7\\b0\\79f66658626032e78fc1a83103690ef6797d551cb22e56e734\n",
      "  Building wheel for syntok (setup.py): started\n",
      "  Building wheel for syntok (setup.py): finished with status 'done'\n",
      "  Created wheel for syntok: filename=syntok-1.3.1-py3-none-any.whl size=20917 sha256=15c17f60bcea9ceb60a1503066386fbd58973b46af02df73a8e48eb3c475344a\n",
      "  Stored in directory: c:\\users\\bielo\\appdata\\local\\pip\\cache\\wheels\\24\\fd\\23\\26e82d723a0455d2cb72fe6af9dd1f0b2a9a1312829470b304\n",
      "Successfully built ktrain seqeval keras-bert keras-transformer keras-embed-sim keras-layer-normalization keras-multi-head keras-self-attention keras-pos-embd keras-position-wise-feed-forward jieba langdetect syntok\n",
      "Installing collected packages: keras-self-attention, keras-position-wise-feed-forward, keras-pos-embd, keras-multi-head, keras-layer-normalization, keras-embed-sim, tokenizers, sacremoses, keras-transformer, whoosh, transformers, syntok, seqeval, sentencepiece, scikit-learn, langdetect, keras-bert, jieba, fastprogress, cchardet, ktrain\n",
      "  Attempting uninstall: scikit-learn\n",
      "    Found existing installation: scikit-learn 0.24.1\n",
      "    Uninstalling scikit-learn-0.24.1:\n",
      "      Successfully uninstalled scikit-learn-0.24.1\n",
      "Successfully installed cchardet-2.1.7 fastprogress-1.0.0 jieba-0.42.1 keras-bert-0.86.0 keras-embed-sim-0.8.0 keras-layer-normalization-0.14.0 keras-multi-head-0.27.0 keras-pos-embd-0.11.0 keras-position-wise-feed-forward-0.6.0 keras-self-attention-0.46.0 keras-transformer-0.38.0 ktrain-0.26.2 langdetect-1.0.9 sacremoses-0.0.45 scikit-learn-0.23.2 sentencepiece-0.1.95 seqeval-0.0.19 syntok-1.3.1 tokenizers-0.10.2 transformers-4.3.3 whoosh-2.7.4\n"
     ]
    }
   ],
   "source": [
    "!pip install ktrain"
   ]
  },
  {
   "cell_type": "code",
   "execution_count": 2,
   "metadata": {
    "colab": {},
    "colab_type": "code",
    "id": "03DIjNR4Pak-"
   },
   "outputs": [],
   "source": [
    "import tensorflow as tf"
   ]
  },
  {
   "cell_type": "code",
   "execution_count": 3,
   "metadata": {
    "colab": {
     "base_uri": "https://localhost:8080/",
     "height": 34
    },
    "colab_type": "code",
    "id": "Oj4h0PScPaoP",
    "outputId": "f4778281-dcd4-46ad-8caa-a27d0d730ec0"
   },
   "outputs": [
    {
     "data": {
      "text/plain": [
       "'2.4.1'"
      ]
     },
     "execution_count": 3,
     "metadata": {},
     "output_type": "execute_result"
    }
   ],
   "source": [
    "tf.__version__"
   ]
  },
  {
   "cell_type": "code",
   "execution_count": 13,
   "metadata": {
    "colab": {
     "base_uri": "https://localhost:8080/",
     "height": 122
    },
    "colab_type": "code",
    "id": "7bKZcE1QPath",
    "outputId": "b407d617-4dc5-49f6-f3b3-4bb3d0dff0ef"
   },
   "outputs": [],
   "source": [
    "# !git clone https://github.com/laxmimerit/IMDB-Movie-Reviews-Large-Dataset-50k.git"
   ]
  },
  {
   "cell_type": "code",
   "execution_count": 7,
   "metadata": {
    "colab": {},
    "colab_type": "code",
    "id": "QeVtH0h1Pawm"
   },
   "outputs": [],
   "source": [
    "import pandas as pd\n",
    "import numpy as np\n",
    "import ktrain\n",
    "from ktrain import text\n",
    "import tensorflow as tf"
   ]
  },
  {
   "cell_type": "code",
   "execution_count": 12,
   "metadata": {},
   "outputs": [
    {
     "data": {
      "text/plain": [
       "'C:\\\\Users\\\\bielo\\\\OneDrive\\\\Desktop'"
      ]
     },
     "execution_count": 12,
     "metadata": {},
     "output_type": "execute_result"
    }
   ],
   "source": [
    "pwd"
   ]
  },
  {
   "cell_type": "code",
   "execution_count": 18,
   "metadata": {
    "colab": {},
    "colab_type": "code",
    "id": "REJST6u-PazK"
   },
   "outputs": [],
   "source": [
    "data_train = pd.read_excel('content\\\\IMDB-Movie-Reviews-Large-Dataset-50k\\\\train.xlsx', dtype = str)"
   ]
  },
  {
   "cell_type": "code",
   "execution_count": 17,
   "metadata": {
    "colab": {},
    "colab_type": "code",
    "id": "6evdVTUrPa2I"
   },
   "outputs": [],
   "source": [
    "data_test = pd.read_excel('content\\\\IMDB-Movie-Reviews-Large-Dataset-50k\\\\test.xlsx', dtype = str)"
   ]
  },
  {
   "cell_type": "code",
   "execution_count": 19,
   "metadata": {
    "colab": {
     "base_uri": "https://localhost:8080/",
     "height": 203
    },
    "colab_type": "code",
    "id": "EB4V8_yFPa7x",
    "outputId": "91310964-c1df-4561-e06c-41da375ac4e7"
   },
   "outputs": [
    {
     "data": {
      "text/html": [
       "<div>\n",
       "<style scoped>\n",
       "    .dataframe tbody tr th:only-of-type {\n",
       "        vertical-align: middle;\n",
       "    }\n",
       "\n",
       "    .dataframe tbody tr th {\n",
       "        vertical-align: top;\n",
       "    }\n",
       "\n",
       "    .dataframe thead th {\n",
       "        text-align: right;\n",
       "    }\n",
       "</style>\n",
       "<table border=\"1\" class=\"dataframe\">\n",
       "  <thead>\n",
       "    <tr style=\"text-align: right;\">\n",
       "      <th></th>\n",
       "      <th>Reviews</th>\n",
       "      <th>Sentiment</th>\n",
       "    </tr>\n",
       "  </thead>\n",
       "  <tbody>\n",
       "    <tr>\n",
       "      <th>24995</th>\n",
       "      <td>Everyone plays their part pretty well in this ...</td>\n",
       "      <td>pos</td>\n",
       "    </tr>\n",
       "    <tr>\n",
       "      <th>24996</th>\n",
       "      <td>It happened with Assault on Prescient 13 in 20...</td>\n",
       "      <td>neg</td>\n",
       "    </tr>\n",
       "    <tr>\n",
       "      <th>24997</th>\n",
       "      <td>My God. This movie was awful. I can't complain...</td>\n",
       "      <td>neg</td>\n",
       "    </tr>\n",
       "    <tr>\n",
       "      <th>24998</th>\n",
       "      <td>When I first popped in Happy Birthday to Me, I...</td>\n",
       "      <td>neg</td>\n",
       "    </tr>\n",
       "    <tr>\n",
       "      <th>24999</th>\n",
       "      <td>So why does this show suck? Unfortunately, tha...</td>\n",
       "      <td>neg</td>\n",
       "    </tr>\n",
       "  </tbody>\n",
       "</table>\n",
       "</div>"
      ],
      "text/plain": [
       "                                                 Reviews Sentiment\n",
       "24995  Everyone plays their part pretty well in this ...       pos\n",
       "24996  It happened with Assault on Prescient 13 in 20...       neg\n",
       "24997  My God. This movie was awful. I can't complain...       neg\n",
       "24998  When I first popped in Happy Birthday to Me, I...       neg\n",
       "24999  So why does this show suck? Unfortunately, tha...       neg"
      ]
     },
     "execution_count": 19,
     "metadata": {},
     "output_type": "execute_result"
    }
   ],
   "source": [
    "data_train.tail()"
   ]
  },
  {
   "cell_type": "code",
   "execution_count": 20,
   "metadata": {
    "colab": {
     "base_uri": "https://localhost:8080/",
     "height": 203
    },
    "colab_type": "code",
    "id": "PBQNF71qPa_J",
    "outputId": "7327dfd9-c840-4952-af90-0c0579698d66"
   },
   "outputs": [
    {
     "data": {
      "text/html": [
       "<div>\n",
       "<style scoped>\n",
       "    .dataframe tbody tr th:only-of-type {\n",
       "        vertical-align: middle;\n",
       "    }\n",
       "\n",
       "    .dataframe tbody tr th {\n",
       "        vertical-align: top;\n",
       "    }\n",
       "\n",
       "    .dataframe thead th {\n",
       "        text-align: right;\n",
       "    }\n",
       "</style>\n",
       "<table border=\"1\" class=\"dataframe\">\n",
       "  <thead>\n",
       "    <tr style=\"text-align: right;\">\n",
       "      <th></th>\n",
       "      <th>Reviews</th>\n",
       "      <th>Sentiment</th>\n",
       "    </tr>\n",
       "  </thead>\n",
       "  <tbody>\n",
       "    <tr>\n",
       "      <th>0</th>\n",
       "      <td>Who would have thought that a movie about a ma...</td>\n",
       "      <td>pos</td>\n",
       "    </tr>\n",
       "    <tr>\n",
       "      <th>1</th>\n",
       "      <td>After realizing what is going on around us ......</td>\n",
       "      <td>pos</td>\n",
       "    </tr>\n",
       "    <tr>\n",
       "      <th>2</th>\n",
       "      <td>I grew up watching the original Disney Cindere...</td>\n",
       "      <td>neg</td>\n",
       "    </tr>\n",
       "    <tr>\n",
       "      <th>3</th>\n",
       "      <td>David Mamet wrote the screenplay and made his ...</td>\n",
       "      <td>pos</td>\n",
       "    </tr>\n",
       "    <tr>\n",
       "      <th>4</th>\n",
       "      <td>Admittedly, I didn't have high expectations of...</td>\n",
       "      <td>neg</td>\n",
       "    </tr>\n",
       "  </tbody>\n",
       "</table>\n",
       "</div>"
      ],
      "text/plain": [
       "                                             Reviews Sentiment\n",
       "0  Who would have thought that a movie about a ma...       pos\n",
       "1  After realizing what is going on around us ......       pos\n",
       "2  I grew up watching the original Disney Cindere...       neg\n",
       "3  David Mamet wrote the screenplay and made his ...       pos\n",
       "4  Admittedly, I didn't have high expectations of...       neg"
      ]
     },
     "execution_count": 20,
     "metadata": {},
     "output_type": "execute_result"
    }
   ],
   "source": [
    "data_test.head()"
   ]
  },
  {
   "cell_type": "code",
   "execution_count": 21,
   "metadata": {
    "colab": {
     "base_uri": "https://localhost:8080/",
     "height": 34
    },
    "colab_type": "code",
    "id": "kdJpQqhQPbEN",
    "outputId": "695a6ac1-d429-45b2-bec1-a43c36503665"
   },
   "outputs": [
    {
     "data": {
      "text/plain": [
       "((25000, 2), (25000, 2))"
      ]
     },
     "execution_count": 21,
     "metadata": {},
     "output_type": "execute_result"
    }
   ],
   "source": [
    "data_test.shape, data_train.shape"
   ]
  },
  {
   "cell_type": "code",
   "execution_count": null,
   "metadata": {
    "colab": {},
    "colab_type": "code",
    "id": "qEEZAApjPbHn"
   },
   "outputs": [],
   "source": []
  },
  {
   "cell_type": "code",
   "execution_count": 22,
   "metadata": {
    "colab": {
     "base_uri": "https://localhost:8080/",
     "height": 280
    },
    "colab_type": "code",
    "id": "HnyWZ3LxPbKs",
    "outputId": "a7acabad-6769-4e99-d467-7d11604c20c2"
   },
   "outputs": [
    {
     "name": "stdout",
     "output_type": "stream",
     "text": [
      "['neg', 'pos']\n",
      "   neg  pos\n",
      "0  1.0  0.0\n",
      "1  1.0  0.0\n",
      "2  1.0  0.0\n",
      "3  1.0  0.0\n",
      "4  1.0  0.0\n",
      "['neg', 'pos']\n",
      "   neg  pos\n",
      "0  0.0  1.0\n",
      "1  0.0  1.0\n",
      "2  1.0  0.0\n",
      "3  0.0  1.0\n",
      "4  1.0  0.0\n",
      "downloading pretrained BERT model (uncased_L-12_H-768_A-12.zip)...\n",
      "[██████████████████████████████████████████████████]\n",
      "extracting pretrained BERT model...\n",
      "done.\n",
      "\n",
      "cleanup downloaded zip...\n",
      "done.\n",
      "\n",
      "preprocessing train...\n",
      "language: en\n"
     ]
    },
    {
     "data": {
      "text/html": [
       "done."
      ],
      "text/plain": [
       "<IPython.core.display.HTML object>"
      ]
     },
     "metadata": {},
     "output_type": "display_data"
    },
    {
     "name": "stdout",
     "output_type": "stream",
     "text": [
      "Is Multi-Label? False\n",
      "preprocessing test...\n",
      "language: en\n"
     ]
    },
    {
     "data": {
      "text/html": [
       "done."
      ],
      "text/plain": [
       "<IPython.core.display.HTML object>"
      ]
     },
     "metadata": {},
     "output_type": "display_data"
    }
   ],
   "source": [
    "(X_train, y_train), (X_test, y_test), preproc = text.texts_from_df(train_df=data_train, text_column = 'Reviews', label_columns = 'Sentiment',\n",
    "                                                                   val_df = data_test, maxlen = 500, preprocess_mode = 'bert')"
   ]
  },
  {
   "cell_type": "code",
   "execution_count": 23,
   "metadata": {
    "colab": {
     "base_uri": "https://localhost:8080/",
     "height": 70
    },
    "colab_type": "code",
    "id": "O1D6yrkVPbN4",
    "outputId": "c2c84550-3ecc-469b-f811-3066437155c3"
   },
   "outputs": [
    {
     "name": "stdout",
     "output_type": "stream",
     "text": [
      "Is Multi-Label? False\n",
      "maxlen is 500\n",
      "done.\n"
     ]
    }
   ],
   "source": [
    "model = text.text_classifier(name = 'bert', train_data = (X_train, y_train), preproc = preproc)"
   ]
  },
  {
   "cell_type": "code",
   "execution_count": 24,
   "metadata": {
    "colab": {},
    "colab_type": "code",
    "id": "z4Bo8sBPPbRA"
   },
   "outputs": [],
   "source": [
    "learner = ktrain.get_learner(model=model, train_data=(X_train, y_train), val_data = (X_test, y_test), batch_size = 6)"
   ]
  },
  {
   "cell_type": "code",
   "execution_count": null,
   "metadata": {
    "colab": {
     "base_uri": "https://localhost:8080/",
     "height": 142
    },
    "colab_type": "code",
    "id": "VWvGlFKmPbdH",
    "outputId": "8b7df171-cf50-4d93-9077-722fb5eddd0f"
   },
   "outputs": [
    {
     "name": "stdout",
     "output_type": "stream",
     "text": [
      "\n",
      "\n",
      "begin training using onecycle policy with max lr of 2e-05...\n",
      " 121/4167 [..............................] - ETA: 31:23:53 - loss: 0.6413 - accuracy: 0.6446"
     ]
    }
   ],
   "source": [
    "learner.fit_onecycle(lr = 2e-5, epochs = 1)"
   ]
  },
  {
   "cell_type": "code",
   "execution_count": 0,
   "metadata": {
    "colab": {},
    "colab_type": "code",
    "id": "oxyfCWJi_EGs"
   },
   "outputs": [],
   "source": [
    "predictor = ktrain.get_predictor(learner.model, preproc)"
   ]
  },
  {
   "cell_type": "code",
   "execution_count": 0,
   "metadata": {
    "colab": {},
    "colab_type": "code",
    "id": "pJ51Kh-6_ETB"
   },
   "outputs": [],
   "source": [
    "data = ['this movie was horrible, the plot was really boring. acting was okay',\n",
    "        'the fild is really sucked. there is not plot and acting was bad',\n",
    "        'what a beautiful movie. great plot. acting was good. will see it again']"
   ]
  },
  {
   "cell_type": "code",
   "execution_count": 37,
   "metadata": {
    "colab": {
     "base_uri": "https://localhost:8080/",
     "height": 34
    },
    "colab_type": "code",
    "id": "kSK3nfga_EZk",
    "outputId": "4161e6e4-81e7-4e97-bb63-5f7e3c883299"
   },
   "outputs": [
    {
     "data": {
      "text/html": [],
      "text/plain": [
       "<IPython.core.display.HTML object>"
      ]
     },
     "metadata": {
      "tags": []
     },
     "output_type": "display_data"
    },
    {
     "data": {
      "text/plain": [
       "['neg', 'neg', 'pos']"
      ]
     },
     "execution_count": 37,
     "metadata": {
      "tags": []
     },
     "output_type": "execute_result"
    }
   ],
   "source": [
    "predictor.predict(data)"
   ]
  },
  {
   "cell_type": "code",
   "execution_count": 38,
   "metadata": {
    "colab": {
     "base_uri": "https://localhost:8080/",
     "height": 70
    },
    "colab_type": "code",
    "id": "4DcvWL-N_EdZ",
    "outputId": "4aca3527-b88a-4ecf-bcb5-f0282284c773"
   },
   "outputs": [
    {
     "data": {
      "text/html": [],
      "text/plain": [
       "<IPython.core.display.HTML object>"
      ]
     },
     "metadata": {
      "tags": []
     },
     "output_type": "display_data"
    },
    {
     "data": {
      "text/plain": [
       "array([[0.99797565, 0.00202436],\n",
       "       [0.99606663, 0.00393336],\n",
       "       [0.00292433, 0.9970757 ]], dtype=float32)"
      ]
     },
     "execution_count": 38,
     "metadata": {
      "tags": []
     },
     "output_type": "execute_result"
    }
   ],
   "source": [
    "predictor.predict(data, return_proba=True)"
   ]
  },
  {
   "cell_type": "code",
   "execution_count": 39,
   "metadata": {
    "colab": {
     "base_uri": "https://localhost:8080/",
     "height": 34
    },
    "colab_type": "code",
    "id": "oWkUP1ra_Ehc",
    "outputId": "e7670f10-3b34-44ea-d607-22f06ec5ae76"
   },
   "outputs": [
    {
     "data": {
      "text/plain": [
       "['neg', 'pos']"
      ]
     },
     "execution_count": 39,
     "metadata": {
      "tags": []
     },
     "output_type": "execute_result"
    }
   ],
   "source": [
    "predictor.get_classes()"
   ]
  },
  {
   "cell_type": "code",
   "execution_count": 0,
   "metadata": {
    "colab": {},
    "colab_type": "code",
    "id": "mXK80SBM4a-0"
   },
   "outputs": [],
   "source": [
    "predictor.save('content\\\\bert')"
   ]
  },
  {
   "cell_type": "code",
   "execution_count": 30,
   "metadata": {
    "colab": {
     "base_uri": "https://localhost:8080/",
     "height": 70
    },
    "colab_type": "code",
    "id": "f-kcKyk04a82",
    "outputId": "59a71bd9-276f-44f3-886b-823563ab16c7"
   },
   "outputs": [
    {
     "name": "stdout",
     "output_type": "stream",
     "text": [
      "  adding: content/bert/ (stored 0%)\n",
      "  adding: content/bert/tf_model.h5 (deflated 11%)\n",
      "  adding: content/bert/tf_model.preproc (deflated 52%)\n"
     ]
    }
   ],
   "source": [
    "!zip -r content\\\\bert.zip content\\\\bert"
   ]
  },
  {
   "cell_type": "code",
   "execution_count": 0,
   "metadata": {
    "colab": {},
    "colab_type": "code",
    "id": "KCaIh4Wt4azL"
   },
   "outputs": [],
   "source": [
    "predictor_load = ktrain.load_predictor('content\\\\bert')"
   ]
  },
  {
   "cell_type": "code",
   "execution_count": 32,
   "metadata": {
    "colab": {
     "base_uri": "https://localhost:8080/",
     "height": 34
    },
    "colab_type": "code",
    "id": "UeqGtQko4aw_",
    "outputId": "12d603aa-9210-4a60-f29b-0fe0cbfdea90"
   },
   "outputs": [
    {
     "data": {
      "text/plain": [
       "['neg', 'pos']"
      ]
     },
     "execution_count": 32,
     "metadata": {
      "tags": []
     },
     "output_type": "execute_result"
    }
   ],
   "source": [
    "predictor_load.get_classes()"
   ]
  },
  {
   "cell_type": "code",
   "execution_count": 33,
   "metadata": {
    "colab": {
     "base_uri": "https://localhost:8080/",
     "height": 34
    },
    "colab_type": "code",
    "id": "pyu8T3VD4aiv",
    "outputId": "1ef7b254-52f9-48d8-fb1c-864953230473"
   },
   "outputs": [
    {
     "data": {
      "text/html": [],
      "text/plain": [
       "<IPython.core.display.HTML object>"
      ]
     },
     "metadata": {
      "tags": []
     },
     "output_type": "display_data"
    },
    {
     "data": {
      "text/plain": [
       "['neg', 'neg', 'pos']"
      ]
     },
     "execution_count": 33,
     "metadata": {
      "tags": []
     },
     "output_type": "execute_result"
    }
   ],
   "source": [
    "predictor_load.predict(data)"
   ]
  }
 ],
 "metadata": {
  "accelerator": "GPU",
  "colab": {
   "collapsed_sections": [],
   "name": "Sentiment_Classification_using_BERT.ipynb",
   "provenance": []
  },
  "kernelspec": {
   "display_name": "Python 3",
   "language": "python",
   "name": "python3"
  },
  "language_info": {
   "codemirror_mode": {
    "name": "ipython",
    "version": 3
   },
   "file_extension": ".py",
   "mimetype": "text/x-python",
   "name": "python",
   "nbconvert_exporter": "python",
   "pygments_lexer": "ipython3",
   "version": "3.8.5"
  }
 },
 "nbformat": 4,
 "nbformat_minor": 1
}
